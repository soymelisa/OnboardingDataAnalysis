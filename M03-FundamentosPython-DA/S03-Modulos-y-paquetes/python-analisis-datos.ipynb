{
 "cells": [
  {
   "cell_type": "code",
   "execution_count": 12,
   "metadata": {},
   "outputs": [],
   "source": [
    "# Manipulando archivos desde Python\n",
    "\n",
    "## Ontenioendo la lista de archivos de la carpeta actual e imprimirlos en la salida estándar\n",
    "### Conociendo el Módulo OS"
   ]
  },
  {
   "cell_type": "code",
   "execution_count": 13,
   "metadata": {},
   "outputs": [],
   "source": [
    "import os"
   ]
  },
  {
   "cell_type": "code",
   "execution_count": 14,
   "metadata": {},
   "outputs": [
    {
     "data": {
      "text/plain": [
       "['.ipynb_checkpoints', 'Untitled.ipynb']"
      ]
     },
     "execution_count": 14,
     "metadata": {},
     "output_type": "execute_result"
    }
   ],
   "source": [
    "os.listdir()"
   ]
  },
  {
   "cell_type": "code",
   "execution_count": 15,
   "metadata": {},
   "outputs": [
    {
     "data": {
      "text/plain": [
       "['$Recycle.Bin',\n",
       " 'Archivos de programa',\n",
       " 'Dell',\n",
       " 'Documents and Settings',\n",
       " 'hiberfil.sys',\n",
       " 'Intel',\n",
       " 'OneDriveTemp',\n",
       " 'pagefile.sys',\n",
       " 'PerfLogs',\n",
       " 'Program Files',\n",
       " 'Program Files (x86)',\n",
       " 'ProgramData',\n",
       " 'Recovery',\n",
       " 'swapfile.sys',\n",
       " 'System Volume Information',\n",
       " 'Users',\n",
       " 'Windows']"
      ]
     },
     "execution_count": 15,
     "metadata": {},
     "output_type": "execute_result"
    }
   ],
   "source": [
    "os.listdir(\"/\")"
   ]
  },
  {
   "cell_type": "code",
   "execution_count": 51,
   "metadata": {
    "scrolled": true
   },
   "outputs": [
    {
     "name": "stdout",
     "output_type": "stream",
     "text": [
      "C:/Users/soyme/SandBox2020/OnboardingDataAnalysis/M03-FundamentosPython-DA/S03-Modulos-y-paquetes\\.ipynb_checkpoints          0\n"
     ]
    }
   ],
   "source": [
    "import os\n",
    "\n",
    "# Obteniendo la data (obtener la lista de archivos)\n",
    "def obtiene_entradas(ruta):\n",
    "    \"\"\"\" Obtiene la lista de entradas de ruta y regresa una lista con el nombre y tamaño para cada una \"\"\"\n",
    "    # Se obtiene el nombre de las entradas \n",
    "    nombres = os.listdir(ruta)\n",
    "    # Obtener el tamaño de cada uno de los elementos que son archivos\n",
    "    # [\n",
    "    # [\"archivo1\", 1234],\n",
    "    # [\"archivo2\", 5678],\n",
    "    # ...\n",
    "    # ]\n",
    "\n",
    "    # Agregando ruta a los nombres de archivo\n",
    "    # for i, n in enumerate(nombres): # [(0, \"arch1\"), (1, \"arch2\"), (3,\"arch3\"),n enumerate(nombres): [(0, \"arch1\"), (1, \"arch2\"),\n",
    "    #   nombres[i] = os.path.join(ruta, n)\n",
    "    nombres = [os.path.join(ruta,n) for n in nombres] # listas de compresión \n",
    "\n",
    "    entradas = []\n",
    "    for n in nombres:\n",
    "        if os.path.isfile(n):\n",
    "            # obtener el tamaño de n-\n",
    "            # -agregarlo a la lista-\n",
    "            tamanio = os.path.getsize(n)\n",
    "            entrada = [n, tamanio]\n",
    "            entradas.append(entrada)\n",
    "            print(\"Archivo:\", n)\n",
    "        else:\n",
    "            # entonces es una carpeta\n",
    "            # -asignar \n",
    "            # agregarlo a la lista\n",
    "            entrada = [n, 0]\n",
    "            entradas.append(entrada)\n",
    "            \n",
    "        return entradas\n",
    "\n",
    "# Imprimiendo resultados\n",
    "def imprime_entradas(entradas):\n",
    "    \"\"\"\" Imprime la lista de entrada en la salida estándar en forma tabular \"\"\"\n",
    "    for e in entradas:\n",
    "        print(\"{:60} {:10}\".format(*e))\n",
    "\n",
    "# uso de las funciones\n",
    "\n",
    "ruta =\"C:/Users/soyme/SandBox2020/OnboardingDataAnalysis/M03-FundamentosPython-DA/S03-Modulos-y-paquetes\"\n",
    "entradas = obtiene_entradas(ruta) \n",
    "imprime_entradas(entradas)\n"
   ]
  },
  {
   "cell_type": "code",
   "execution_count": 37,
   "metadata": {},
   "outputs": [
    {
     "name": "stdout",
     "output_type": "stream",
     "text": [
      "Angel 26\n",
      "Alejandro 54\n"
     ]
    }
   ],
   "source": [
    "def persona (nombre, edad):\n",
    "    print(nombre, edad)\n",
    "    \n",
    "persona(\"Angel\", 26)\n",
    "persona(\"Alejandro\", 54)"
   ]
  },
  {
   "cell_type": "code",
   "execution_count": 55,
   "metadata": {},
   "outputs": [
    {
     "name": "stdout",
     "output_type": "stream",
     "text": [
      "C:\\Users\\soyme\\SandBox2020\\OnboardingDataAnalysis\\M03-FundamentosPython-DA\\S03-Modulos-y-paquetes\n"
     ]
    }
   ],
   "source": [
    "!cd"
   ]
  },
  {
   "cell_type": "code",
   "execution_count": 54,
   "metadata": {},
   "outputs": [
    {
     "name": "stdout",
     "output_type": "stream",
     "text": [
      " El volumen de la unidad C no tiene etiqueta.\n",
      " El n£mero de serie del volumen es: 1835-77CB\n",
      "\n",
      " Directorio de C:\\Users\\soyme\\SandBox2020\\OnboardingDataAnalysis\\M03-FundamentosPython-DA\\S03-Modulos-y-paquetes\n",
      "\n",
      "02/05/2020  11:03 a. m.    <DIR>          .\n",
      "02/05/2020  11:03 a. m.    <DIR>          ..\n",
      "02/05/2020  09:35 a. m.    <DIR>          .ipynb_checkpoints\n",
      "02/05/2020  11:01 a. m.             1,674 archivos.py\n",
      "02/05/2020  09:57 a. m.                39 datos.txt\n",
      "02/05/2020  09:58 a. m.                 0 datos2.txt\n",
      "02/05/2020  11:00 a. m.             4,985 python-analisis-datos.ipynb\n",
      "               4 archivos          6,698 bytes\n",
      "               3 dirs  758,381,289,472 bytes libres\n"
     ]
    }
   ],
   "source": [
    "!dir"
   ]
  },
  {
   "cell_type": "code",
   "execution_count": 85,
   "metadata": {},
   "outputs": [],
   "source": [
    "import archivos"
   ]
  },
  {
   "cell_type": "code",
   "execution_count": 86,
   "metadata": {},
   "outputs": [],
   "source": [
    "# No esta hecho para módulo\n",
    "## Se ejecutará como módulo "
   ]
  },
  {
   "cell_type": "code",
   "execution_count": 88,
   "metadata": {},
   "outputs": [
    {
     "name": "stdout",
     "output_type": "stream",
     "text": [
      "/$Recycle.Bin                                                         0\n"
     ]
    }
   ],
   "source": [
    "a= archivos.obtiene_entradas(\"/\")\n",
    "archivos.imprime_entradas(a)"
   ]
  },
  {
   "cell_type": "code",
   "execution_count": 89,
   "metadata": {},
   "outputs": [],
   "source": []
  },
  {
   "cell_type": "code",
   "execution_count": 90,
   "metadata": {},
   "outputs": [
    {
     "ename": "NameError",
     "evalue": "name 't' is not defined",
     "output_type": "error",
     "traceback": [
      "\u001b[1;31m---------------------------------------------------------------------------\u001b[0m",
      "\u001b[1;31mNameError\u001b[0m                                 Traceback (most recent call last)",
      "\u001b[1;32m<ipython-input-90-b5cd20d61470>\u001b[0m in \u001b[0;36m<module>\u001b[1;34m\u001b[0m\n\u001b[1;32m----> 1\u001b[1;33m \u001b[0mtime\u001b[0m\u001b[1;33m.\u001b[0m\u001b[0mlocaltime\u001b[0m\u001b[1;33m(\u001b[0m\u001b[0mt\u001b[0m\u001b[1;33m)\u001b[0m\u001b[1;33m\u001b[0m\u001b[1;33m\u001b[0m\u001b[0m\n\u001b[0m",
      "\u001b[1;31mNameError\u001b[0m: name 't' is not defined"
     ]
    }
   ],
   "source": []
  },
  {
   "cell_type": "code",
   "execution_count": 91,
   "metadata": {},
   "outputs": [],
   "source": [
    "t = os.path.getmtime(\"archivos.py\")"
   ]
  },
  {
   "cell_type": "code",
   "execution_count": 92,
   "metadata": {},
   "outputs": [],
   "source": [
    "import time"
   ]
  },
  {
   "cell_type": "code",
   "execution_count": 93,
   "metadata": {},
   "outputs": [
    {
     "data": {
      "text/plain": [
       "time.struct_time(tm_year=2020, tm_mon=5, tm_mday=2, tm_hour=11, tm_min=31, tm_sec=39, tm_wday=5, tm_yday=123, tm_isdst=1)"
      ]
     },
     "execution_count": 93,
     "metadata": {},
     "output_type": "execute_result"
    }
   ],
   "source": [
    "time.localtime(t)"
   ]
  },
  {
   "cell_type": "code",
   "execution_count": 95,
   "metadata": {},
   "outputs": [
    {
     "data": {
      "text/plain": [
       "time.struct_time(tm_year=2020, tm_mon=5, tm_mday=2, tm_hour=11, tm_min=31, tm_sec=39, tm_wday=5, tm_yday=123, tm_isdst=1)"
      ]
     },
     "execution_count": 95,
     "metadata": {},
     "output_type": "execute_result"
    }
   ],
   "source": [
    "tt = time.localtime(t)\n",
    "tt"
   ]
  },
  {
   "cell_type": "code",
   "execution_count": 96,
   "metadata": {},
   "outputs": [
    {
     "data": {
      "text/plain": [
       "'Sat May  2 11:31:39 2020'"
      ]
     },
     "execution_count": 96,
     "metadata": {},
     "output_type": "execute_result"
    }
   ],
   "source": [
    "time.ctime(t)"
   ]
  },
  {
   "cell_type": "code",
   "execution_count": null,
   "metadata": {},
   "outputs": [],
   "source": []
  }
 ],
 "metadata": {
  "kernelspec": {
   "display_name": "Python 3",
   "language": "python",
   "name": "python3"
  },
  "language_info": {
   "codemirror_mode": {
    "name": "ipython",
    "version": 3
   },
   "file_extension": ".py",
   "mimetype": "text/x-python",
   "name": "python",
   "nbconvert_exporter": "python",
   "pygments_lexer": "ipython3",
   "version": "3.7.6"
  }
 },
 "nbformat": 4,
 "nbformat_minor": 4
}

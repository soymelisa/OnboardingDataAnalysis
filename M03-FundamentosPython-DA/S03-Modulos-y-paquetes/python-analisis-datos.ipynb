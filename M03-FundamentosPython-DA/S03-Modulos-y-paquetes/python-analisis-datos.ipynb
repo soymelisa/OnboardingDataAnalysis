{
 "cells": [
  {
   "cell_type": "code",
   "execution_count": 12,
   "metadata": {},
   "outputs": [],
   "source": [
    "# Manipulando archivos desde Python\n",
    "\n",
    "## Ontenioendo la lista de archivos de la carpeta actual e imprimirlos en la salida estándar\n",
    "### Conociendo el Módulo OS"
   ]
  },
  {
   "cell_type": "code",
   "execution_count": 13,
   "metadata": {},
   "outputs": [],
   "source": [
    "import os"
   ]
  },
  {
   "cell_type": "code",
   "execution_count": 14,
   "metadata": {},
   "outputs": [
    {
     "data": {
      "text/plain": [
       "['.ipynb_checkpoints', 'Untitled.ipynb']"
      ]
     },
     "execution_count": 14,
     "metadata": {},
     "output_type": "execute_result"
    }
   ],
   "source": [
    "os.listdir()"
   ]
  },
  {
   "cell_type": "code",
   "execution_count": 15,
   "metadata": {},
   "outputs": [
    {
     "data": {
      "text/plain": [
       "['$Recycle.Bin',\n",
       " 'Archivos de programa',\n",
       " 'Dell',\n",
       " 'Documents and Settings',\n",
       " 'hiberfil.sys',\n",
       " 'Intel',\n",
       " 'OneDriveTemp',\n",
       " 'pagefile.sys',\n",
       " 'PerfLogs',\n",
       " 'Program Files',\n",
       " 'Program Files (x86)',\n",
       " 'ProgramData',\n",
       " 'Recovery',\n",
       " 'swapfile.sys',\n",
       " 'System Volume Information',\n",
       " 'Users',\n",
       " 'Windows']"
      ]
     },
     "execution_count": 15,
     "metadata": {},
     "output_type": "execute_result"
    }
   ],
   "source": [
    "os.listdir(\"/\")"
   ]
  },
  {
   "cell_type": "code",
   "execution_count": 51,
   "metadata": {
    "scrolled": true
   },
   "outputs": [
    {
     "name": "stdout",
     "output_type": "stream",
     "text": [
      "C:/Users/soyme/SandBox2020/OnboardingDataAnalysis/M03-FundamentosPython-DA/S03-Modulos-y-paquetes\\.ipynb_checkpoints          0\n"
     ]
    }
   ],
   "source": [
    "import os\n",
    "\n",
    "# Obteniendo la data (obtener la lista de archivos)\n",
    "def obtiene_entradas(ruta):\n",
    "    \"\"\"\" Obtiene la lista de entradas de ruta y regresa una lista con el nombre y tamaño para cada una \"\"\"\n",
    "    # Se obtiene el nombre de las entradas \n",
    "    nombres = os.listdir(ruta)\n",
    "    # Obtener el tamaño de cada uno de los elementos que son archivos\n",
    "    # [\n",
    "    # [\"archivo1\", 1234],\n",
    "    # [\"archivo2\", 5678],\n",
    "    # ...\n",
    "    # ]\n",
    "\n",
    "    # Agregando ruta a los nombres de archivo\n",
    "    # for i, n in enumerate(nombres): # [(0, \"arch1\"), (1, \"arch2\"), (3,\"arch3\"),n enumerate(nombres): [(0, \"arch1\"), (1, \"arch2\"),\n",
    "    #   nombres[i] = os.path.join(ruta, n)\n",
    "    nombres = [os.path.join(ruta,n) for n in nombres] # listas de compresión \n",
    "\n",
    "    entradas = []\n",
    "    for n in nombres:\n",
    "        if os.path.isfile(n):\n",
    "            # obtener el tamaño de n-\n",
    "            # -agregarlo a la lista-\n",
    "            tamanio = os.path.getsize(n)\n",
    "            entrada = [n, tamanio]\n",
    "            entradas.append(entrada)\n",
    "            print(\"Archivo:\", n)\n",
    "        else:\n",
    "            # entonces es una carpeta\n",
    "            # -asignar \n",
    "            # agregarlo a la lista\n",
    "            entrada = [n, 0]\n",
    "            entradas.append(entrada)\n",
    "            \n",
    "        return entradas\n",
    "\n",
    "# Imprimiendo resultados\n",
    "def imprime_entradas(entradas):\n",
    "    \"\"\"\" Imprime la lista de entrada en la salida estándar en forma tabular \"\"\"\n",
    "    for e in entradas:\n",
    "        print(\"{:60} {:10}\".format(*e))\n",
    "\n",
    "# uso de las funciones\n",
    "\n",
    "ruta =\"C:/Users/soyme/SandBox2020/OnboardingDataAnalysis/M03-FundamentosPython-DA/S03-Modulos-y-paquetes\"\n",
    "entradas = obtiene_entradas(ruta) \n",
    "imprime_entradas(entradas)\n"
   ]
  },
  {
   "cell_type": "code",
   "execution_count": 37,
   "metadata": {},
   "outputs": [
    {
     "name": "stdout",
     "output_type": "stream",
     "text": [
      "Angel 26\n",
      "Alejandro 54\n"
     ]
    }
   ],
   "source": [
    "def persona (nombre, edad):\n",
    "    print(nombre, edad)\n",
    "    \n",
    "persona(\"Angel\", 26)\n",
    "persona(\"Alejandro\", 54)"
   ]
  },
  {
   "cell_type": "code",
   "execution_count": null,
   "metadata": {},
   "outputs": [],
   "source": []
  }
 ],
 "metadata": {
  "kernelspec": {
   "display_name": "Python 3",
   "language": "python",
   "name": "python3"
  },
  "language_info": {
   "codemirror_mode": {
    "name": "ipython",
    "version": 3
   },
   "file_extension": ".py",
   "mimetype": "text/x-python",
   "name": "python",
   "nbconvert_exporter": "python",
   "pygments_lexer": "ipython3",
   "version": "3.7.6"
  }
 },
 "nbformat": 4,
 "nbformat_minor": 4
}

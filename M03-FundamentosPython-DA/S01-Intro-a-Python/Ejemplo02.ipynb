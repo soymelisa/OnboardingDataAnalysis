{
 "cells": [
  {
   "cell_type": "markdown",
   "metadata": {},
   "source": [
    "# Variables y tipos de datos"
   ]
  },
  {
   "cell_type": "code",
   "execution_count": null,
   "metadata": {},
   "outputs": [],
   "source": [
    "8 ** 3\n",
    "raiz= 16 ** (1/2.0)\n",
    "print(raiz)"
   ]
  },
  {
   "cell_type": "code",
   "execution_count": null,
   "metadata": {},
   "outputs": [],
   "source": [
    "\n",
    "import math\n",
    "\n",
    "esfera_radio = 150.5\n",
    "pi= math.pi\n",
    "volumen_radio= (4/3)*pi*esfera_radio**3\n",
    "print(volumen_radio)"
   ]
  },
  {
   "cell_type": "markdown",
   "metadata": {},
   "source": [
    "# Cadenas"
   ]
  },
  {
   "cell_type": "code",
   "execution_count": null,
   "metadata": {},
   "outputs": [],
   "source": [
    "a=\"150\"\n",
    "b=\"150.5\"\n",
    "a= int(a) \n",
    "print(a, type(a))\n",
    "b= float(b)\n",
    "print(b, type(b))\n"
   ]
  },
  {
   "cell_type": "code",
   "execution_count": null,
   "metadata": {},
   "outputs": [],
   "source": [
    "a = 150.5\n",
    "x= int(a)\n",
    "string=str(x)\n",
    "print(string, type(string))\n"
   ]
  },
  {
   "cell_type": "code",
   "execution_count": null,
   "metadata": {},
   "outputs": [],
   "source": [
    "print (\"-\"*43)\n",
    "print (\"{:15} | {:15} | TIEMPO\".format(\"ORIGEN\", \"DESTINO\", \"Tiempo\"))\n",
    "print (\"-\"*43)\n",
    "print (\"{:15} {:20} 15:00\".format (\"Roma Norte\", \" Tabacalera\"))\n",
    "print (\"{:15} {:20} 8:00\".format (\"Reforma\", \" Juárez\"))\n",
    "print (\"-\"*43)\n"
   ]
  },
  {
   "cell_type": "markdown",
   "metadata": {},
   "source": [
    "## Lectura de datos desde el usuario y formateo de cadenas"
   ]
  },
  {
   "cell_type": "code",
   "execution_count": null,
   "metadata": {},
   "outputs": [],
   "source": [
    "nombre = input(\"Dame tu nombre:\")\n",
    "nombre"
   ]
  },
  {
   "cell_type": "code",
   "execution_count": null,
   "metadata": {},
   "outputs": [],
   "source": [
    "edad = input(\"Dame tu edad:\")\n",
    "edad = int(edad)\n",
    "print(edad, type(edad))"
   ]
  },
  {
   "cell_type": "code",
   "execution_count": null,
   "metadata": {},
   "outputs": [],
   "source": [
    "print(\"-\"*20)\n",
    "print(\"|\" + nombre + \"|\" + str(edad) + \"|\")\n",
    "print(\"\"*20)"
   ]
  },
  {
   "cell_type": "code",
   "execution_count": null,
   "metadata": {},
   "outputs": [],
   "source": []
  },
  {
   "cell_type": "code",
   "execution_count": null,
   "metadata": {},
   "outputs": [],
   "source": []
  }
 ],
 "metadata": {
  "kernelspec": {
   "display_name": "Python 3",
   "language": "python",
   "name": "python3"
  },
  "language_info": {
   "codemirror_mode": {
    "name": "ipython",
    "version": 3
   },
   "file_extension": ".py",
   "mimetype": "text/x-python",
   "name": "python",
   "nbconvert_exporter": "python",
   "pygments_lexer": "ipython3",
   "version": "3.7.4"
  }
 },
 "nbformat": 4,
 "nbformat_minor": 4
}

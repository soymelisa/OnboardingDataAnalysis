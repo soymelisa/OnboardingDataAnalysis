{
  "nbformat": 4,
  "nbformat_minor": 0,
  "metadata": {
    "colab": {
      "name": "Copia de Melisa_Perez_M04.ipynb",
      "provenance": [],
      "collapsed_sections": [],
      "authorship_tag": "ABX9TyNeedfQrG5w3zuUZcj0ewVW",
      "include_colab_link": true
    },
    "kernelspec": {
      "name": "python3",
      "display_name": "Python 3"
    }
  },
  "cells": [
    {
      "cell_type": "markdown",
      "metadata": {
        "id": "view-in-github",
        "colab_type": "text"
      },
      "source": [
        "<a href=\"https://colab.research.google.com/github/soymelisa/OnboardingDataAnalysis/blob/master/M04_S01.ipynb\" target=\"_parent\"><img src=\"https://colab.research.google.com/assets/colab-badge.svg\" alt=\"Open In Colab\"/></a>"
      ]
    },
    {
      "cell_type": "code",
      "metadata": {
        "id": "DduCEko9-otc",
        "colab_type": "code",
        "colab": {}
      },
      "source": [
        "import pandas as pd\n",
        "import json"
      ],
      "execution_count": 0,
      "outputs": []
    },
    {
      "cell_type": "code",
      "metadata": {
        "id": "_Uojed25_FCq",
        "colab_type": "code",
        "outputId": "92b89d69-13c3-4ff6-e0d8-f3eb3bb5da2f",
        "colab": {
          "base_uri": "https://localhost:8080/",
          "height": 189
        }
      },
      "source": [
        "with open('drive/MyDrive/DATA_ANALYSIS_BOOTCAMP/M04_Python-DA/meteoritos.json', 'r') as f:\n",
        "  json_data = json.load(f)"
      ],
      "execution_count": 31,
      "outputs": [
        {
          "output_type": "error",
          "ename": "FileNotFoundError",
          "evalue": "ignored",
          "traceback": [
            "\u001b[0;31m---------------------------------------------------------------------------\u001b[0m",
            "\u001b[0;31mFileNotFoundError\u001b[0m                         Traceback (most recent call last)",
            "\u001b[0;32m<ipython-input-31-b444fc395c2d>\u001b[0m in \u001b[0;36m<module>\u001b[0;34m()\u001b[0m\n\u001b[0;32m----> 1\u001b[0;31m \u001b[0;32mwith\u001b[0m \u001b[0mopen\u001b[0m\u001b[0;34m(\u001b[0m\u001b[0;34m'drive/My Drive/DATA_ANALYSIS_BOOTCAMP/M04_Python-DA/meteoritos.json'\u001b[0m\u001b[0;34m,\u001b[0m \u001b[0;34m'r'\u001b[0m\u001b[0;34m)\u001b[0m \u001b[0;32mas\u001b[0m \u001b[0mf\u001b[0m\u001b[0;34m:\u001b[0m\u001b[0;34m\u001b[0m\u001b[0;34m\u001b[0m\u001b[0m\n\u001b[0m\u001b[1;32m      2\u001b[0m   \u001b[0mjson_data\u001b[0m \u001b[0;34m=\u001b[0m \u001b[0mjson\u001b[0m\u001b[0;34m.\u001b[0m\u001b[0mload\u001b[0m\u001b[0;34m(\u001b[0m\u001b[0mf\u001b[0m\u001b[0;34m)\u001b[0m\u001b[0;34m\u001b[0m\u001b[0;34m\u001b[0m\u001b[0m\n",
            "\u001b[0;31mFileNotFoundError\u001b[0m: [Errno 2] No such file or directory: 'drive/My Drive/DATA_ANALYSIS_BOOTCAMP/M04_Python-DA/meteoritos.json'"
          ]
        }
      ]
    },
    {
      "cell_type": "markdown",
      "metadata": {
        "id": "RJ7Ob2WIINH9",
        "colab_type": "text"
      },
      "source": [
        "#### !pip install [librería]"
      ]
    },
    {
      "cell_type": "markdown",
      "metadata": {
        "id": "Q5t-NfBNNHIH",
        "colab_type": "text"
      },
      "source": [
        ""
      ]
    },
    {
      "cell_type": "markdown",
      "metadata": {
        "id": "QaTzwQy6BVNq",
        "colab_type": "text"
      },
      "source": [
        "# Sesión 1"
      ]
    },
    {
      "cell_type": "markdown",
      "metadata": {
        "id": "UOFfUbm7JsN6",
        "colab_type": "text"
      },
      "source": [
        "### CON FUNCIONES DE CALCULADORA"
      ]
    },
    {
      "cell_type": "code",
      "metadata": {
        "id": "tZWUz06xKfdA",
        "colab_type": "code",
        "colab": {}
      },
      "source": [
        "def sumar(valor1=0,valor2=0):\n",
        "\treturn valor1 + valor2"
      ],
      "execution_count": 0,
      "outputs": []
    },
    {
      "cell_type": "code",
      "metadata": {
        "id": "kseMU30tKknb",
        "colab_type": "code",
        "colab": {}
      },
      "source": [
        "def restar(valor1=0,valor2=0):\n",
        "\treturn valor1 - valor2 "
      ],
      "execution_count": 0,
      "outputs": []
    },
    {
      "cell_type": "code",
      "metadata": {
        "id": "URBpJV4YKs5Y",
        "colab_type": "code",
        "colab": {}
      },
      "source": [
        "def multiplicar(valor1=0,valor2=0):\n",
        "\treturn valor1 * valor2 "
      ],
      "execution_count": 0,
      "outputs": []
    },
    {
      "cell_type": "code",
      "metadata": {
        "id": "Ih3LzWynK9EU",
        "colab_type": "code",
        "colab": {}
      },
      "source": [
        "def dividir(valor1=0,valor2=0):\n",
        "\treturn valor1 / valor2 "
      ],
      "execution_count": 0,
      "outputs": []
    },
    {
      "cell_type": "code",
      "metadata": {
        "id": "oyvNptCQJlnb",
        "colab_type": "code",
        "outputId": "6311372a-1121-458b-80b7-bc2076d9b505",
        "colab": {
          "base_uri": "https://localhost:8080/",
          "height": 34
        }
      },
      "source": [
        "div = y/x\n",
        "print(div)"
      ],
      "execution_count": 0,
      "outputs": [
        {
          "output_type": "stream",
          "text": [
            "1.5\n"
          ],
          "name": "stdout"
        }
      ]
    },
    {
      "cell_type": "markdown",
      "metadata": {
        "id": "0mUjYBqMLisd",
        "colab_type": "text"
      },
      "source": [
        "### Más bien habría que crear un Menú de opciones"
      ]
    },
    {
      "cell_type": "code",
      "metadata": {
        "id": "lSg58qy0Kvkp",
        "colab_type": "code",
        "colab": {}
      },
      "source": [
        "def opciones(opc=0):\n",
        "\topcion = int(input(\"Selecione una Opción... \"))\n",
        "\treturn opcion"
      ],
      "execution_count": 0,
      "outputs": []
    },
    {
      "cell_type": "code",
      "metadata": {
        "id": "ZUc3epKiqABu",
        "colab_type": "code",
        "colab": {
          "base_uri": "https://localhost:8080/",
          "height": 35
        },
        "outputId": "a36f1583-ca7f-44cc-9a5b-429fd0deb72c"
      },
      "source": [
        "vete = \"Vete por la banqueta\"\n",
        "vete"
      ],
      "execution_count": 32,
      "outputs": [
        {
          "output_type": "execute_result",
          "data": {
            "text/plain": [
              "'Vete por la banqueta'"
            ]
          },
          "metadata": {
            "tags": []
          },
          "execution_count": 32
        }
      ]
    },
    {
      "cell_type": "code",
      "metadata": {
        "id": "BFrV6A2_PydB",
        "colab_type": "code",
        "colab": {}
      },
      "source": [
        "def imprimir_hey_palabra():\n",
        "  print(\"Vete por la banqueta\")"
      ],
      "execution_count": 0,
      "outputs": []
    },
    {
      "cell_type": "markdown",
      "metadata": {
        "id": "x22hTbN8PYUe",
        "colab_type": "text"
      },
      "source": [
        "## Calcula el Índice de Masa Corporal"
      ]
    },
    {
      "cell_type": "code",
      "metadata": {
        "id": "kOHxvBThPnxG",
        "colab_type": "code",
        "colab": {}
      },
      "source": [
        "peso = 54\n",
        "estatura = 1.60\n",
        "def masa_corporal(peso,estatura):\n",
        "  return peso/(estatura)**2"
      ],
      "execution_count": 0,
      "outputs": []
    },
    {
      "cell_type": "code",
      "metadata": {
        "id": "Sv2pDB0HYlxB",
        "colab_type": "code",
        "outputId": "e8822bc9-7e9e-4ce7-ca2c-40e1d9a97643",
        "colab": {
          "base_uri": "https://localhost:8080/",
          "height": 34
        }
      },
      "source": [
        "print (masa_corporal(54,1.60))"
      ],
      "execution_count": 0,
      "outputs": [
        {
          "output_type": "stream",
          "text": [
            "21.093749999999996\n"
          ],
          "name": "stdout"
        }
      ]
    },
    {
      "cell_type": "code",
      "metadata": {
        "id": "5iVTRAzOmxgU",
        "colab_type": "code",
        "colab": {}
      },
      "source": [
        "def masa_user():\n",
        "  peso = int(input(\"Ingresa peso: \"))\n",
        "  estatura = float(input(\"Ingresa estatura: \"))\n",
        "  return peso/estatura**2"
      ],
      "execution_count": 0,
      "outputs": []
    },
    {
      "cell_type": "markdown",
      "metadata": {
        "id": "hR7jtKkuRLBT",
        "colab_type": "text"
      },
      "source": [
        "## Operadores de Comparación y condicionales"
      ]
    },
    {
      "cell_type": "markdown",
      "metadata": {
        "id": "kbIgrA8XSiN8",
        "colab_type": "text"
      },
      "source": [
        "### Podemos enlazar múltiples condiciones usando if, elif, else"
      ]
    },
    {
      "cell_type": "code",
      "metadata": {
        "id": "K22WzZ55QwlP",
        "colab_type": "code",
        "colab": {}
      },
      "source": [
        "def masa_corporal():\n",
        "  imc_user = masa_user()\n",
        "  print (\"IMC\"+ str(imc_user))\n",
        "  \n",
        "  if imc_user == 18.5:\n",
        "    print(\"Estas bajo de peso\")\n",
        "\n",
        "  elif imc_user < 24.9:\n",
        "    print(\"Sobrepeso\")\n",
        "\n",
        "  elif imc_user < 29.9:\n",
        "    print(\"Obesidad grado 1\")\n",
        "\n",
        "  elif imc_user < 34.9:\n",
        "    print(\"Obesidad grado 2\")\n",
        "\n",
        "  elif imc_user < 39.9:\n",
        "    print(\"Obesidad grado 3\")\n"
      ],
      "execution_count": 0,
      "outputs": []
    },
    {
      "cell_type": "code",
      "metadata": {
        "id": "l7HbXquBShTp",
        "colab_type": "code",
        "outputId": "c2a45e9f-8a9c-4a48-a94a-858e99b044a8",
        "colab": {
          "base_uri": "https://localhost:8080/",
          "height": 72
        }
      },
      "source": [
        "masa_user()"
      ],
      "execution_count": 35,
      "outputs": [
        {
          "output_type": "stream",
          "text": [
            "peso: 54\n",
            "estatura: 1.60\n"
          ],
          "name": "stdout"
        },
        {
          "output_type": "execute_result",
          "data": {
            "text/plain": [
              "21.093749999999996"
            ]
          },
          "metadata": {
            "tags": []
          },
          "execution_count": 35
        }
      ]
    },
    {
      "cell_type": "markdown",
      "metadata": {
        "id": "ooBB-3mzdvNl",
        "colab_type": "text"
      },
      "source": [
        "### Reto 04"
      ]
    },
    {
      "cell_type": "code",
      "metadata": {
        "id": "5W9COjgefFdk",
        "colab_type": "code",
        "colab": {}
      },
      "source": [
        "def formato_dinero(lista_de_num):\n",
        "  lista_de_dinero=[]\n",
        "  for numero in lista_de_num:\n",
        "    lista_de_dinero.append(\"$\" + str(numero))\n",
        "  print(lista_de_dinero)"
      ],
      "execution_count": 0,
      "outputs": []
    },
    {
      "cell_type": "code",
      "metadata": {
        "id": "uIZVDqIUfPw8",
        "colab_type": "code",
        "colab": {
          "base_uri": "https://localhost:8080/",
          "height": 35
        },
        "outputId": "99a0e07d-42bc-4ff6-b908-53316a0a18ca"
      },
      "source": [
        "lista_de_num = [34, 56, 100]\n",
        "formato_dinero(lista_de_num)"
      ],
      "execution_count": 25,
      "outputs": [
        {
          "output_type": "stream",
          "text": [
            "['$34', '$56', '$100']\n"
          ],
          "name": "stdout"
        }
      ]
    },
    {
      "cell_type": "code",
      "metadata": {
        "id": "cGkNC7Mlf4dx",
        "colab_type": "code",
        "colab": {}
      },
      "source": [
        ""
      ],
      "execution_count": 0,
      "outputs": []
    }
  ]
}
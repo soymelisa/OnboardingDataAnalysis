{
  "nbformat": 4,
  "nbformat_minor": 0,
  "metadata": {
    "colab": {
      "name": "M04_S01&02.ipynb",
      "provenance": [],
      "collapsed_sections": [],
      "mount_file_id": "1jdZwoWoSgErmuAmAgNIOL8n497K_T_S7",
      "authorship_tag": "ABX9TyMgRRnZXBuGnz5B/FpZh82K",
      "include_colab_link": true
    },
    "kernelspec": {
      "name": "python3",
      "display_name": "Python 3"
    }
  },
  "cells": [
    {
      "cell_type": "markdown",
      "metadata": {
        "id": "view-in-github",
        "colab_type": "text"
      },
      "source": [
        "<a href=\"https://colab.research.google.com/github/soymelisa/OnboardingDataAnalysis/blob/master/M04_S01%2602.ipynb\" target=\"_parent\"><img src=\"https://colab.research.google.com/assets/colab-badge.svg\" alt=\"Open In Colab\"/></a>"
      ]
    },
    {
      "cell_type": "code",
      "metadata": {
        "id": "DduCEko9-otc",
        "colab_type": "code",
        "colab": {}
      },
      "source": [
        "import pandas as pd\n",
        "import json"
      ],
      "execution_count": 0,
      "outputs": []
    },
    {
      "cell_type": "markdown",
      "metadata": {
        "id": "RJ7Ob2WIINH9",
        "colab_type": "text"
      },
      "source": [
        "#### !pip install [librería]"
      ]
    },
    {
      "cell_type": "markdown",
      "metadata": {
        "id": "QaTzwQy6BVNq",
        "colab_type": "text"
      },
      "source": [
        "# Sesión 1"
      ]
    },
    {
      "cell_type": "markdown",
      "metadata": {
        "id": "UOFfUbm7JsN6",
        "colab_type": "text"
      },
      "source": [
        "### CON FUNCIONES DE CALCULADORA"
      ]
    },
    {
      "cell_type": "code",
      "metadata": {
        "id": "tZWUz06xKfdA",
        "colab_type": "code",
        "colab": {}
      },
      "source": [
        "def sumar(valor1=0,valor2=0):\n",
        "\treturn valor1 + valor2"
      ],
      "execution_count": 0,
      "outputs": []
    },
    {
      "cell_type": "code",
      "metadata": {
        "id": "kseMU30tKknb",
        "colab_type": "code",
        "colab": {}
      },
      "source": [
        "def restar(valor1=0,valor2=0):\n",
        "\treturn valor1 - valor2 "
      ],
      "execution_count": 0,
      "outputs": []
    },
    {
      "cell_type": "code",
      "metadata": {
        "id": "URBpJV4YKs5Y",
        "colab_type": "code",
        "colab": {}
      },
      "source": [
        "def multiplicar(valor1=0,valor2=0):\n",
        "\treturn valor1 * valor2 "
      ],
      "execution_count": 0,
      "outputs": []
    },
    {
      "cell_type": "code",
      "metadata": {
        "id": "Ih3LzWynK9EU",
        "colab_type": "code",
        "colab": {}
      },
      "source": [
        "def dividir(valor1=0,valor2=0):\n",
        "\treturn valor1 / valor2 "
      ],
      "execution_count": 0,
      "outputs": []
    },
    {
      "cell_type": "code",
      "metadata": {
        "id": "oyvNptCQJlnb",
        "colab_type": "code",
        "outputId": "6311372a-1121-458b-80b7-bc2076d9b505",
        "colab": {
          "base_uri": "https://localhost:8080/",
          "height": 34
        }
      },
      "source": [
        "div = y/x\n",
        "print(div)"
      ],
      "execution_count": 0,
      "outputs": [
        {
          "output_type": "stream",
          "text": [
            "1.5\n"
          ],
          "name": "stdout"
        }
      ]
    },
    {
      "cell_type": "markdown",
      "metadata": {
        "id": "0mUjYBqMLisd",
        "colab_type": "text"
      },
      "source": [
        "### Más bien habría que crear un Menú de opciones"
      ]
    },
    {
      "cell_type": "code",
      "metadata": {
        "id": "lSg58qy0Kvkp",
        "colab_type": "code",
        "colab": {}
      },
      "source": [
        "def opciones(opc=0):\n",
        "\topcion = int(input(\"Selecione una Opción... \"))\n",
        "\treturn opcion"
      ],
      "execution_count": 0,
      "outputs": []
    },
    {
      "cell_type": "code",
      "metadata": {
        "id": "ZUc3epKiqABu",
        "colab_type": "code",
        "colab": {
          "base_uri": "https://localhost:8080/",
          "height": 35
        },
        "outputId": "a36f1583-ca7f-44cc-9a5b-429fd0deb72c"
      },
      "source": [
        "vete = \"Vete por la banqueta\"\n",
        "vete"
      ],
      "execution_count": 32,
      "outputs": [
        {
          "output_type": "execute_result",
          "data": {
            "text/plain": [
              "'Vete por la banqueta'"
            ]
          },
          "metadata": {
            "tags": []
          },
          "execution_count": 32
        }
      ]
    },
    {
      "cell_type": "code",
      "metadata": {
        "id": "BFrV6A2_PydB",
        "colab_type": "code",
        "colab": {}
      },
      "source": [
        "def imprimir_hey_palabra():\n",
        "  print(\"Vete por la banqueta\")"
      ],
      "execution_count": 0,
      "outputs": []
    },
    {
      "cell_type": "markdown",
      "metadata": {
        "id": "x22hTbN8PYUe",
        "colab_type": "text"
      },
      "source": [
        "## Calcula el Índice de Masa Corporal"
      ]
    },
    {
      "cell_type": "code",
      "metadata": {
        "id": "kOHxvBThPnxG",
        "colab_type": "code",
        "colab": {}
      },
      "source": [
        "peso = 54\n",
        "estatura = 1.60\n",
        "def masa_corporal(peso,estatura):\n",
        "  return peso/(estatura)**2"
      ],
      "execution_count": 0,
      "outputs": []
    },
    {
      "cell_type": "code",
      "metadata": {
        "id": "Sv2pDB0HYlxB",
        "colab_type": "code",
        "outputId": "e8822bc9-7e9e-4ce7-ca2c-40e1d9a97643",
        "colab": {
          "base_uri": "https://localhost:8080/",
          "height": 34
        }
      },
      "source": [
        "print (masa_corporal(54,1.60))"
      ],
      "execution_count": 0,
      "outputs": [
        {
          "output_type": "stream",
          "text": [
            "21.093749999999996\n"
          ],
          "name": "stdout"
        }
      ]
    },
    {
      "cell_type": "code",
      "metadata": {
        "id": "5iVTRAzOmxgU",
        "colab_type": "code",
        "colab": {}
      },
      "source": [
        "def masa_user():\n",
        "  peso = int(input(\"Ingresa peso: \"))\n",
        "  estatura = float(input(\"Ingresa estatura: \"))\n",
        "  return peso/estatura**2"
      ],
      "execution_count": 0,
      "outputs": []
    },
    {
      "cell_type": "markdown",
      "metadata": {
        "id": "hR7jtKkuRLBT",
        "colab_type": "text"
      },
      "source": [
        "## Operadores de Comparación y condicionales"
      ]
    },
    {
      "cell_type": "markdown",
      "metadata": {
        "id": "kbIgrA8XSiN8",
        "colab_type": "text"
      },
      "source": [
        "### Podemos enlazar múltiples condiciones usando if, elif, else"
      ]
    },
    {
      "cell_type": "code",
      "metadata": {
        "id": "K22WzZ55QwlP",
        "colab_type": "code",
        "colab": {}
      },
      "source": [
        "def masa_corporal():\n",
        "  imc_user = masa_user()\n",
        "  print (\"IMC\"+ str(imc_user))\n",
        "  \n",
        "  if imc_user == 18.5:\n",
        "    print(\"Estas bajo de peso\")\n",
        "\n",
        "  elif imc_user < 24.9:\n",
        "    print(\"Sobrepeso\")\n",
        "\n",
        "  elif imc_user < 29.9:\n",
        "    print(\"Obesidad grado 1\")\n",
        "\n",
        "  elif imc_user < 34.9:\n",
        "    print(\"Obesidad grado 2\")\n",
        "\n",
        "  elif imc_user < 39.9:\n",
        "    print(\"Obesidad grado 3\")\n"
      ],
      "execution_count": 0,
      "outputs": []
    },
    {
      "cell_type": "code",
      "metadata": {
        "id": "l7HbXquBShTp",
        "colab_type": "code",
        "outputId": "c2a45e9f-8a9c-4a48-a94a-858e99b044a8",
        "colab": {
          "base_uri": "https://localhost:8080/",
          "height": 72
        }
      },
      "source": [
        "masa_user()"
      ],
      "execution_count": 35,
      "outputs": [
        {
          "output_type": "stream",
          "text": [
            "peso: 54\n",
            "estatura: 1.60\n"
          ],
          "name": "stdout"
        },
        {
          "output_type": "execute_result",
          "data": {
            "text/plain": [
              "21.093749999999996"
            ]
          },
          "metadata": {
            "tags": []
          },
          "execution_count": 35
        }
      ]
    },
    {
      "cell_type": "markdown",
      "metadata": {
        "id": "ooBB-3mzdvNl",
        "colab_type": "text"
      },
      "source": [
        "### Reto 04"
      ]
    },
    {
      "cell_type": "code",
      "metadata": {
        "id": "5W9COjgefFdk",
        "colab_type": "code",
        "colab": {}
      },
      "source": [
        "def formato_dinero(lista_de_num):\n",
        "  lista_de_dinero=[]\n",
        "  for numero in lista_de_num:\n",
        "    lista_de_dinero.append(\"$\" + str(numero))\n",
        "  print(lista_de_dinero)"
      ],
      "execution_count": 0,
      "outputs": []
    },
    {
      "cell_type": "code",
      "metadata": {
        "id": "uIZVDqIUfPw8",
        "colab_type": "code",
        "colab": {
          "base_uri": "https://localhost:8080/",
          "height": 35
        },
        "outputId": "99a0e07d-42bc-4ff6-b908-53316a0a18ca"
      },
      "source": [
        "lista_de_num = [34, 56, 100]\n",
        "formato_dinero(lista_de_num)"
      ],
      "execution_count": 25,
      "outputs": [
        {
          "output_type": "stream",
          "text": [
            "['$34', '$56', '$100']\n"
          ],
          "name": "stdout"
        }
      ]
    },
    {
      "cell_type": "markdown",
      "metadata": {
        "id": "cGkNC7Mlf4dx",
        "colab_type": "text"
      },
      "source": [
        "# Sesión 02"
      ]
    },
    {
      "cell_type": "code",
      "metadata": {
        "id": "b6areYohuoY0",
        "colab_type": "code",
        "colab": {
          "base_uri": "https://localhost:8080/",
          "height": 207
        },
        "outputId": "788c8d07-0ac4-4acb-a1d6-026ed6d7df8c"
      },
      "source": [
        "import timeit\n",
        "\n",
        "%timeit\n",
        "for i in range(1000_000):\n",
        "  masa_user(54,1.60)"
      ],
      "execution_count": 38,
      "outputs": [
        {
          "output_type": "error",
          "ename": "TypeError",
          "evalue": "ignored",
          "traceback": [
            "\u001b[0;31m---------------------------------------------------------------------------\u001b[0m",
            "\u001b[0;31mTypeError\u001b[0m                                 Traceback (most recent call last)",
            "\u001b[0;32m<ipython-input-38-d1114ae29b47>\u001b[0m in \u001b[0;36m<module>\u001b[0;34m()\u001b[0m\n\u001b[1;32m      3\u001b[0m \u001b[0mget_ipython\u001b[0m\u001b[0;34m(\u001b[0m\u001b[0;34m)\u001b[0m\u001b[0;34m.\u001b[0m\u001b[0mmagic\u001b[0m\u001b[0;34m(\u001b[0m\u001b[0;34m'timeit'\u001b[0m\u001b[0;34m)\u001b[0m\u001b[0;34m\u001b[0m\u001b[0;34m\u001b[0m\u001b[0m\n\u001b[1;32m      4\u001b[0m \u001b[0;32mfor\u001b[0m \u001b[0mi\u001b[0m \u001b[0;32min\u001b[0m \u001b[0mrange\u001b[0m\u001b[0;34m(\u001b[0m\u001b[0;36m1000_000\u001b[0m\u001b[0;34m)\u001b[0m\u001b[0;34m:\u001b[0m\u001b[0;34m\u001b[0m\u001b[0;34m\u001b[0m\u001b[0m\n\u001b[0;32m----> 5\u001b[0;31m   \u001b[0mmasa_user\u001b[0m\u001b[0;34m(\u001b[0m\u001b[0;36m54\u001b[0m\u001b[0;34m,\u001b[0m\u001b[0;36m1.60\u001b[0m\u001b[0;34m)\u001b[0m\u001b[0;34m\u001b[0m\u001b[0;34m\u001b[0m\u001b[0m\n\u001b[0m",
            "\u001b[0;31mTypeError\u001b[0m: masa_user() takes 0 positional arguments but 2 were given"
          ]
        }
      ]
    },
    {
      "cell_type": "markdown",
      "metadata": {
        "id": "bVo6C9jgu1VS",
        "colab_type": "text"
      },
      "source": [
        "#### Lectura de X-Separated values"
      ]
    },
    {
      "cell_type": "code",
      "metadata": {
        "id": "7-DU3GKtyBql",
        "colab_type": "code",
        "colab": {}
      },
      "source": [
        "import pandas as pd"
      ],
      "execution_count": 0,
      "outputs": []
    },
    {
      "cell_type": "code",
      "metadata": {
        "id": "tGjaohkX0CG3",
        "colab_type": "code",
        "colab": {
          "base_uri": "https://localhost:8080/",
          "height": 35
        },
        "outputId": "60c4040d-8589-4b01-a3c7-d73af33b7f93"
      },
      "source": [
        "from google.colab import drive\n",
        "drive.mount('/content/drive/')"
      ],
      "execution_count": 56,
      "outputs": [
        {
          "output_type": "stream",
          "text": [
            "Drive already mounted at /content/drive/; to attempt to forcibly remount, call drive.mount(\"/content/drive/\", force_remount=True).\n"
          ],
          "name": "stdout"
        }
      ]
    },
    {
      "cell_type": "code",
      "metadata": {
        "id": "vhGAVgvJyGvD",
        "colab_type": "code",
        "colab": {}
      },
      "source": [
        "df= pd.read_csv('drive/My Drive/DATA_ANALYSIS_BOOTCAMP/M04_Python-DA/citas.csv', sep=\",\")"
      ],
      "execution_count": 0,
      "outputs": []
    },
    {
      "cell_type": "code",
      "metadata": {
        "id": "b2ZoMi5Lyljr",
        "colab_type": "code",
        "colab": {
          "base_uri": "https://localhost:8080/",
          "height": 143
        },
        "outputId": "2b695b93-590d-4e77-ad69-2c6dfb951c61"
      },
      "source": [
        "df.head(3)"
      ],
      "execution_count": 59,
      "outputs": [
        {
          "output_type": "execute_result",
          "data": {
            "text/html": [
              "<div>\n",
              "<style scoped>\n",
              "    .dataframe tbody tr th:only-of-type {\n",
              "        vertical-align: middle;\n",
              "    }\n",
              "\n",
              "    .dataframe tbody tr th {\n",
              "        vertical-align: top;\n",
              "    }\n",
              "\n",
              "    .dataframe thead th {\n",
              "        text-align: right;\n",
              "    }\n",
              "</style>\n",
              "<table border=\"1\" class=\"dataframe\">\n",
              "  <thead>\n",
              "    <tr style=\"text-align: right;\">\n",
              "      <th></th>\n",
              "      <th>texto</th>\n",
              "      <th>autor</th>\n",
              "    </tr>\n",
              "  </thead>\n",
              "  <tbody>\n",
              "    <tr>\n",
              "      <th>0</th>\n",
              "      <td>“The world as we have created it is a process ...</td>\n",
              "      <td>Albert Einstein</td>\n",
              "    </tr>\n",
              "    <tr>\n",
              "      <th>1</th>\n",
              "      <td>“It is our choices, Harry, that show what we t...</td>\n",
              "      <td>J.K. Rowling</td>\n",
              "    </tr>\n",
              "    <tr>\n",
              "      <th>2</th>\n",
              "      <td>“There are only two ways to live your life. On...</td>\n",
              "      <td>Albert Einstein</td>\n",
              "    </tr>\n",
              "  </tbody>\n",
              "</table>\n",
              "</div>"
            ],
            "text/plain": [
              "                                               texto            autor\n",
              "0  “The world as we have created it is a process ...  Albert Einstein\n",
              "1  “It is our choices, Harry, that show what we t...     J.K. Rowling\n",
              "2  “There are only two ways to live your life. On...  Albert Einstein"
            ]
          },
          "metadata": {
            "tags": []
          },
          "execution_count": 59
        }
      ]
    },
    {
      "cell_type": "code",
      "metadata": {
        "id": "kKwlmjquzRLC",
        "colab_type": "code",
        "colab": {
          "base_uri": "https://localhost:8080/",
          "height": 72
        },
        "outputId": "4d22c27c-243f-4b6c-87a1-b8d157ac0651"
      },
      "source": [
        "df.dtypes"
      ],
      "execution_count": 60,
      "outputs": [
        {
          "output_type": "execute_result",
          "data": {
            "text/plain": [
              "texto    object\n",
              "autor    object\n",
              "dtype: object"
            ]
          },
          "metadata": {
            "tags": []
          },
          "execution_count": 60
        }
      ]
    },
    {
      "cell_type": "markdown",
      "metadata": {
        "id": "URqhwc6x1F3D",
        "colab_type": "text"
      },
      "source": [
        "## Reto 02"
      ]
    },
    {
      "cell_type": "code",
      "metadata": {
        "id": "P0idbAKq2Mhl",
        "colab_type": "code",
        "colab": {
          "base_uri": "https://localhost:8080/",
          "height": 424
        },
        "outputId": "6a3f7746-de79-4514-d224-5ccb58d5181e"
      },
      "source": [
        "df = pd.read_csv('/content/drive/My Drive/DATA_ANALYSIS_BOOTCAMP/M04_Python-DA/CrimeReports.csv', sep=\",\")\n",
        "\n",
        "df"
      ],
      "execution_count": 77,
      "outputs": [
        {
          "output_type": "execute_result",
          "data": {
            "text/html": [
              "<div>\n",
              "<style scoped>\n",
              "    .dataframe tbody tr th:only-of-type {\n",
              "        vertical-align: middle;\n",
              "    }\n",
              "\n",
              "    .dataframe tbody tr th {\n",
              "        vertical-align: top;\n",
              "    }\n",
              "\n",
              "    .dataframe thead th {\n",
              "        text-align: right;\n",
              "    }\n",
              "</style>\n",
              "<table border=\"1\" class=\"dataframe\">\n",
              "  <thead>\n",
              "    <tr style=\"text-align: right;\">\n",
              "      <th></th>\n",
              "      <th>cdatetime</th>\n",
              "      <th>address</th>\n",
              "      <th>district</th>\n",
              "      <th>beat</th>\n",
              "      <th>grid</th>\n",
              "      <th>crimedescr</th>\n",
              "      <th>ucr_ncic_code</th>\n",
              "      <th>latitude</th>\n",
              "      <th>longitude</th>\n",
              "    </tr>\n",
              "  </thead>\n",
              "  <tbody>\n",
              "    <tr>\n",
              "      <th>0</th>\n",
              "      <td>1/1/06 0:00</td>\n",
              "      <td>3108 OCCIDENTAL DR</td>\n",
              "      <td>3</td>\n",
              "      <td>3C</td>\n",
              "      <td>1115</td>\n",
              "      <td>10851(A)VC TAKE VEH W/O OWNER</td>\n",
              "      <td>2404</td>\n",
              "      <td>38.550420</td>\n",
              "      <td>-121.391416</td>\n",
              "    </tr>\n",
              "    <tr>\n",
              "      <th>1</th>\n",
              "      <td>1/1/06 0:00</td>\n",
              "      <td>2082 EXPEDITION WAY</td>\n",
              "      <td>5</td>\n",
              "      <td>5A</td>\n",
              "      <td>1512</td>\n",
              "      <td>459 PC  BURGLARY RESIDENCE</td>\n",
              "      <td>2204</td>\n",
              "      <td>38.473501</td>\n",
              "      <td>-121.490186</td>\n",
              "    </tr>\n",
              "    <tr>\n",
              "      <th>2</th>\n",
              "      <td>1/1/06 0:00</td>\n",
              "      <td>4 PALEN CT</td>\n",
              "      <td>2</td>\n",
              "      <td>2A</td>\n",
              "      <td>212</td>\n",
              "      <td>10851(A)VC TAKE VEH W/O OWNER</td>\n",
              "      <td>2404</td>\n",
              "      <td>38.657846</td>\n",
              "      <td>-121.462101</td>\n",
              "    </tr>\n",
              "    <tr>\n",
              "      <th>3</th>\n",
              "      <td>1/1/06 0:00</td>\n",
              "      <td>22 BECKFORD CT</td>\n",
              "      <td>6</td>\n",
              "      <td>6C</td>\n",
              "      <td>1443</td>\n",
              "      <td>476 PC PASS FICTICIOUS CHECK</td>\n",
              "      <td>2501</td>\n",
              "      <td>38.506774</td>\n",
              "      <td>-121.426951</td>\n",
              "    </tr>\n",
              "    <tr>\n",
              "      <th>4</th>\n",
              "      <td>1/1/06 0:00</td>\n",
              "      <td>3421 AUBURN BLVD</td>\n",
              "      <td>2</td>\n",
              "      <td>2A</td>\n",
              "      <td>508</td>\n",
              "      <td>459 PC  BURGLARY-UNSPECIFIED</td>\n",
              "      <td>2299</td>\n",
              "      <td>38.637448</td>\n",
              "      <td>-121.384613</td>\n",
              "    </tr>\n",
              "    <tr>\n",
              "      <th>...</th>\n",
              "      <td>...</td>\n",
              "      <td>...</td>\n",
              "      <td>...</td>\n",
              "      <td>...</td>\n",
              "      <td>...</td>\n",
              "      <td>...</td>\n",
              "      <td>...</td>\n",
              "      <td>...</td>\n",
              "      <td>...</td>\n",
              "    </tr>\n",
              "    <tr>\n",
              "      <th>7579</th>\n",
              "      <td>1/31/06 23:36</td>\n",
              "      <td>26TH ST / G ST</td>\n",
              "      <td>3</td>\n",
              "      <td>3B</td>\n",
              "      <td>728</td>\n",
              "      <td>594(B)(2)(A) VANDALISM/ -$400</td>\n",
              "      <td>2999</td>\n",
              "      <td>38.577832</td>\n",
              "      <td>-121.470460</td>\n",
              "    </tr>\n",
              "    <tr>\n",
              "      <th>7580</th>\n",
              "      <td>1/31/06 23:40</td>\n",
              "      <td>4011 FREEPORT BLVD</td>\n",
              "      <td>4</td>\n",
              "      <td>4A</td>\n",
              "      <td>957</td>\n",
              "      <td>459 PC  BURGLARY BUSINESS</td>\n",
              "      <td>2203</td>\n",
              "      <td>38.537591</td>\n",
              "      <td>-121.492591</td>\n",
              "    </tr>\n",
              "    <tr>\n",
              "      <th>7581</th>\n",
              "      <td>1/31/06 23:41</td>\n",
              "      <td>30TH ST / K ST</td>\n",
              "      <td>3</td>\n",
              "      <td>3C</td>\n",
              "      <td>841</td>\n",
              "      <td>TRAFFIC-ACCIDENT INJURY</td>\n",
              "      <td>5400</td>\n",
              "      <td>38.572030</td>\n",
              "      <td>-121.467012</td>\n",
              "    </tr>\n",
              "    <tr>\n",
              "      <th>7582</th>\n",
              "      <td>1/31/06 23:45</td>\n",
              "      <td>5303 FRANKLIN BLVD</td>\n",
              "      <td>4</td>\n",
              "      <td>4B</td>\n",
              "      <td>969</td>\n",
              "      <td>3056 PAROLE VIO - I RPT</td>\n",
              "      <td>7000</td>\n",
              "      <td>38.527187</td>\n",
              "      <td>-121.471248</td>\n",
              "    </tr>\n",
              "    <tr>\n",
              "      <th>7583</th>\n",
              "      <td>1/31/06 23:50</td>\n",
              "      <td>COBBLE COVE LN / COBBLE SHORES DR</td>\n",
              "      <td>4</td>\n",
              "      <td>4C</td>\n",
              "      <td>1294</td>\n",
              "      <td>TRAFFIC-ACCIDENT-NON INJURY</td>\n",
              "      <td>5400</td>\n",
              "      <td>38.479628</td>\n",
              "      <td>-121.528634</td>\n",
              "    </tr>\n",
              "  </tbody>\n",
              "</table>\n",
              "<p>7584 rows × 9 columns</p>\n",
              "</div>"
            ],
            "text/plain": [
              "          cdatetime                            address  ...   latitude   longitude\n",
              "0       1/1/06 0:00                 3108 OCCIDENTAL DR  ...  38.550420 -121.391416\n",
              "1       1/1/06 0:00                2082 EXPEDITION WAY  ...  38.473501 -121.490186\n",
              "2       1/1/06 0:00                         4 PALEN CT  ...  38.657846 -121.462101\n",
              "3       1/1/06 0:00                     22 BECKFORD CT  ...  38.506774 -121.426951\n",
              "4       1/1/06 0:00                   3421 AUBURN BLVD  ...  38.637448 -121.384613\n",
              "...             ...                                ...  ...        ...         ...\n",
              "7579  1/31/06 23:36                     26TH ST / G ST  ...  38.577832 -121.470460\n",
              "7580  1/31/06 23:40                 4011 FREEPORT BLVD  ...  38.537591 -121.492591\n",
              "7581  1/31/06 23:41                     30TH ST / K ST  ...  38.572030 -121.467012\n",
              "7582  1/31/06 23:45                 5303 FRANKLIN BLVD  ...  38.527187 -121.471248\n",
              "7583  1/31/06 23:50  COBBLE COVE LN / COBBLE SHORES DR  ...  38.479628 -121.528634\n",
              "\n",
              "[7584 rows x 9 columns]"
            ]
          },
          "metadata": {
            "tags": []
          },
          "execution_count": 77
        }
      ]
    },
    {
      "cell_type": "code",
      "metadata": {
        "id": "UID0BmPF2NzC",
        "colab_type": "code",
        "colab": {
          "base_uri": "https://localhost:8080/",
          "height": 424
        },
        "outputId": "4cbf3e58-a4b6-4994-f1db-0d9f26a8959e"
      },
      "source": [
        "\n",
        "df[['ucr_ncic_code', 'crimedescr']]"
      ],
      "execution_count": 78,
      "outputs": [
        {
          "output_type": "execute_result",
          "data": {
            "text/html": [
              "<div>\n",
              "<style scoped>\n",
              "    .dataframe tbody tr th:only-of-type {\n",
              "        vertical-align: middle;\n",
              "    }\n",
              "\n",
              "    .dataframe tbody tr th {\n",
              "        vertical-align: top;\n",
              "    }\n",
              "\n",
              "    .dataframe thead th {\n",
              "        text-align: right;\n",
              "    }\n",
              "</style>\n",
              "<table border=\"1\" class=\"dataframe\">\n",
              "  <thead>\n",
              "    <tr style=\"text-align: right;\">\n",
              "      <th></th>\n",
              "      <th>ucr_ncic_code</th>\n",
              "      <th>crimedescr</th>\n",
              "    </tr>\n",
              "  </thead>\n",
              "  <tbody>\n",
              "    <tr>\n",
              "      <th>0</th>\n",
              "      <td>2404</td>\n",
              "      <td>10851(A)VC TAKE VEH W/O OWNER</td>\n",
              "    </tr>\n",
              "    <tr>\n",
              "      <th>1</th>\n",
              "      <td>2204</td>\n",
              "      <td>459 PC  BURGLARY RESIDENCE</td>\n",
              "    </tr>\n",
              "    <tr>\n",
              "      <th>2</th>\n",
              "      <td>2404</td>\n",
              "      <td>10851(A)VC TAKE VEH W/O OWNER</td>\n",
              "    </tr>\n",
              "    <tr>\n",
              "      <th>3</th>\n",
              "      <td>2501</td>\n",
              "      <td>476 PC PASS FICTICIOUS CHECK</td>\n",
              "    </tr>\n",
              "    <tr>\n",
              "      <th>4</th>\n",
              "      <td>2299</td>\n",
              "      <td>459 PC  BURGLARY-UNSPECIFIED</td>\n",
              "    </tr>\n",
              "    <tr>\n",
              "      <th>...</th>\n",
              "      <td>...</td>\n",
              "      <td>...</td>\n",
              "    </tr>\n",
              "    <tr>\n",
              "      <th>7579</th>\n",
              "      <td>2999</td>\n",
              "      <td>594(B)(2)(A) VANDALISM/ -$400</td>\n",
              "    </tr>\n",
              "    <tr>\n",
              "      <th>7580</th>\n",
              "      <td>2203</td>\n",
              "      <td>459 PC  BURGLARY BUSINESS</td>\n",
              "    </tr>\n",
              "    <tr>\n",
              "      <th>7581</th>\n",
              "      <td>5400</td>\n",
              "      <td>TRAFFIC-ACCIDENT INJURY</td>\n",
              "    </tr>\n",
              "    <tr>\n",
              "      <th>7582</th>\n",
              "      <td>7000</td>\n",
              "      <td>3056 PAROLE VIO - I RPT</td>\n",
              "    </tr>\n",
              "    <tr>\n",
              "      <th>7583</th>\n",
              "      <td>5400</td>\n",
              "      <td>TRAFFIC-ACCIDENT-NON INJURY</td>\n",
              "    </tr>\n",
              "  </tbody>\n",
              "</table>\n",
              "<p>7584 rows × 2 columns</p>\n",
              "</div>"
            ],
            "text/plain": [
              "      ucr_ncic_code                     crimedescr\n",
              "0              2404  10851(A)VC TAKE VEH W/O OWNER\n",
              "1              2204     459 PC  BURGLARY RESIDENCE\n",
              "2              2404  10851(A)VC TAKE VEH W/O OWNER\n",
              "3              2501   476 PC PASS FICTICIOUS CHECK\n",
              "4              2299   459 PC  BURGLARY-UNSPECIFIED\n",
              "...             ...                            ...\n",
              "7579           2999  594(B)(2)(A) VANDALISM/ -$400\n",
              "7580           2203      459 PC  BURGLARY BUSINESS\n",
              "7581           5400        TRAFFIC-ACCIDENT INJURY\n",
              "7582           7000        3056 PAROLE VIO - I RPT\n",
              "7583           5400    TRAFFIC-ACCIDENT-NON INJURY\n",
              "\n",
              "[7584 rows x 2 columns]"
            ]
          },
          "metadata": {
            "tags": []
          },
          "execution_count": 78
        }
      ]
    },
    {
      "cell_type": "code",
      "metadata": {
        "id": "IXrbdC6B8LZ5",
        "colab_type": "code",
        "colab": {
          "base_uri": "https://localhost:8080/",
          "height": 206
        },
        "outputId": "42c29adc-8200-4fef-c29e-15eb45597e02"
      },
      "source": [
        "df.head()"
      ],
      "execution_count": 79,
      "outputs": [
        {
          "output_type": "execute_result",
          "data": {
            "text/html": [
              "<div>\n",
              "<style scoped>\n",
              "    .dataframe tbody tr th:only-of-type {\n",
              "        vertical-align: middle;\n",
              "    }\n",
              "\n",
              "    .dataframe tbody tr th {\n",
              "        vertical-align: top;\n",
              "    }\n",
              "\n",
              "    .dataframe thead th {\n",
              "        text-align: right;\n",
              "    }\n",
              "</style>\n",
              "<table border=\"1\" class=\"dataframe\">\n",
              "  <thead>\n",
              "    <tr style=\"text-align: right;\">\n",
              "      <th></th>\n",
              "      <th>cdatetime</th>\n",
              "      <th>address</th>\n",
              "      <th>district</th>\n",
              "      <th>beat</th>\n",
              "      <th>grid</th>\n",
              "      <th>crimedescr</th>\n",
              "      <th>ucr_ncic_code</th>\n",
              "      <th>latitude</th>\n",
              "      <th>longitude</th>\n",
              "    </tr>\n",
              "  </thead>\n",
              "  <tbody>\n",
              "    <tr>\n",
              "      <th>0</th>\n",
              "      <td>1/1/06 0:00</td>\n",
              "      <td>3108 OCCIDENTAL DR</td>\n",
              "      <td>3</td>\n",
              "      <td>3C</td>\n",
              "      <td>1115</td>\n",
              "      <td>10851(A)VC TAKE VEH W/O OWNER</td>\n",
              "      <td>2404</td>\n",
              "      <td>38.550420</td>\n",
              "      <td>-121.391416</td>\n",
              "    </tr>\n",
              "    <tr>\n",
              "      <th>1</th>\n",
              "      <td>1/1/06 0:00</td>\n",
              "      <td>2082 EXPEDITION WAY</td>\n",
              "      <td>5</td>\n",
              "      <td>5A</td>\n",
              "      <td>1512</td>\n",
              "      <td>459 PC  BURGLARY RESIDENCE</td>\n",
              "      <td>2204</td>\n",
              "      <td>38.473501</td>\n",
              "      <td>-121.490186</td>\n",
              "    </tr>\n",
              "    <tr>\n",
              "      <th>2</th>\n",
              "      <td>1/1/06 0:00</td>\n",
              "      <td>4 PALEN CT</td>\n",
              "      <td>2</td>\n",
              "      <td>2A</td>\n",
              "      <td>212</td>\n",
              "      <td>10851(A)VC TAKE VEH W/O OWNER</td>\n",
              "      <td>2404</td>\n",
              "      <td>38.657846</td>\n",
              "      <td>-121.462101</td>\n",
              "    </tr>\n",
              "    <tr>\n",
              "      <th>3</th>\n",
              "      <td>1/1/06 0:00</td>\n",
              "      <td>22 BECKFORD CT</td>\n",
              "      <td>6</td>\n",
              "      <td>6C</td>\n",
              "      <td>1443</td>\n",
              "      <td>476 PC PASS FICTICIOUS CHECK</td>\n",
              "      <td>2501</td>\n",
              "      <td>38.506774</td>\n",
              "      <td>-121.426951</td>\n",
              "    </tr>\n",
              "    <tr>\n",
              "      <th>4</th>\n",
              "      <td>1/1/06 0:00</td>\n",
              "      <td>3421 AUBURN BLVD</td>\n",
              "      <td>2</td>\n",
              "      <td>2A</td>\n",
              "      <td>508</td>\n",
              "      <td>459 PC  BURGLARY-UNSPECIFIED</td>\n",
              "      <td>2299</td>\n",
              "      <td>38.637448</td>\n",
              "      <td>-121.384613</td>\n",
              "    </tr>\n",
              "  </tbody>\n",
              "</table>\n",
              "</div>"
            ],
            "text/plain": [
              "     cdatetime              address  ...   latitude   longitude\n",
              "0  1/1/06 0:00   3108 OCCIDENTAL DR  ...  38.550420 -121.391416\n",
              "1  1/1/06 0:00  2082 EXPEDITION WAY  ...  38.473501 -121.490186\n",
              "2  1/1/06 0:00           4 PALEN CT  ...  38.657846 -121.462101\n",
              "3  1/1/06 0:00       22 BECKFORD CT  ...  38.506774 -121.426951\n",
              "4  1/1/06 0:00     3421 AUBURN BLVD  ...  38.637448 -121.384613\n",
              "\n",
              "[5 rows x 9 columns]"
            ]
          },
          "metadata": {
            "tags": []
          },
          "execution_count": 79
        }
      ]
    },
    {
      "cell_type": "code",
      "metadata": {
        "id": "bs9nkkAL9wzv",
        "colab_type": "code",
        "colab": {
          "base_uri": "https://localhost:8080/",
          "height": 72
        },
        "outputId": "37e18243-518e-40b7-bbae-8ece82cc12b6"
      },
      "source": [
        "df.columns"
      ],
      "execution_count": 86,
      "outputs": [
        {
          "output_type": "execute_result",
          "data": {
            "text/plain": [
              "Index(['cdatetime', 'address', 'district', 'beat', 'grid', 'crimedescr',\n",
              "       'ucr_ncic_code', 'latitude', 'longitude'],\n",
              "      dtype='object')"
            ]
          },
          "metadata": {
            "tags": []
          },
          "execution_count": 86
        }
      ]
    },
    {
      "cell_type": "code",
      "metadata": {
        "id": "BtV1mkR97Msl",
        "colab_type": "code",
        "outputId": "934f890b-6750-48ac-8641-84f26d366201",
        "colab": {
          "base_uri": "https://localhost:8080/",
          "height": 206
        }
      },
      "source": [
        "df_filtrado = df[['longitude', 'latitude']]\n",
        "df_filtrado.head()"
      ],
      "execution_count": 94,
      "outputs": [
        {
          "output_type": "execute_result",
          "data": {
            "text/html": [
              "<div>\n",
              "<style scoped>\n",
              "    .dataframe tbody tr th:only-of-type {\n",
              "        vertical-align: middle;\n",
              "    }\n",
              "\n",
              "    .dataframe tbody tr th {\n",
              "        vertical-align: top;\n",
              "    }\n",
              "\n",
              "    .dataframe thead th {\n",
              "        text-align: right;\n",
              "    }\n",
              "</style>\n",
              "<table border=\"1\" class=\"dataframe\">\n",
              "  <thead>\n",
              "    <tr style=\"text-align: right;\">\n",
              "      <th></th>\n",
              "      <th>longitude</th>\n",
              "      <th>latitude</th>\n",
              "    </tr>\n",
              "  </thead>\n",
              "  <tbody>\n",
              "    <tr>\n",
              "      <th>0</th>\n",
              "      <td>-121.391416</td>\n",
              "      <td>38.550420</td>\n",
              "    </tr>\n",
              "    <tr>\n",
              "      <th>1</th>\n",
              "      <td>-121.490186</td>\n",
              "      <td>38.473501</td>\n",
              "    </tr>\n",
              "    <tr>\n",
              "      <th>2</th>\n",
              "      <td>-121.462101</td>\n",
              "      <td>38.657846</td>\n",
              "    </tr>\n",
              "    <tr>\n",
              "      <th>3</th>\n",
              "      <td>-121.426951</td>\n",
              "      <td>38.506774</td>\n",
              "    </tr>\n",
              "    <tr>\n",
              "      <th>4</th>\n",
              "      <td>-121.384613</td>\n",
              "      <td>38.637448</td>\n",
              "    </tr>\n",
              "  </tbody>\n",
              "</table>\n",
              "</div>"
            ],
            "text/plain": [
              "    longitude   latitude\n",
              "0 -121.391416  38.550420\n",
              "1 -121.490186  38.473501\n",
              "2 -121.462101  38.657846\n",
              "3 -121.426951  38.506774\n",
              "4 -121.384613  38.637448"
            ]
          },
          "metadata": {
            "tags": []
          },
          "execution_count": 94
        }
      ]
    },
    {
      "cell_type": "code",
      "metadata": {
        "id": "mz_gi_iX66lc",
        "colab_type": "code",
        "colab": {
          "base_uri": "https://localhost:8080/",
          "height": 424
        },
        "outputId": "2269717e-2dbb-4e69-a4a2-902a55ad512a"
      },
      "source": [
        "df[df[\"ucr_ncic_code\"] == 7000]"
      ],
      "execution_count": 82,
      "outputs": [
        {
          "output_type": "execute_result",
          "data": {
            "text/html": [
              "<div>\n",
              "<style scoped>\n",
              "    .dataframe tbody tr th:only-of-type {\n",
              "        vertical-align: middle;\n",
              "    }\n",
              "\n",
              "    .dataframe tbody tr th {\n",
              "        vertical-align: top;\n",
              "    }\n",
              "\n",
              "    .dataframe thead th {\n",
              "        text-align: right;\n",
              "    }\n",
              "</style>\n",
              "<table border=\"1\" class=\"dataframe\">\n",
              "  <thead>\n",
              "    <tr style=\"text-align: right;\">\n",
              "      <th></th>\n",
              "      <th>cdatetime</th>\n",
              "      <th>address</th>\n",
              "      <th>district</th>\n",
              "      <th>beat</th>\n",
              "      <th>grid</th>\n",
              "      <th>crimedescr</th>\n",
              "      <th>ucr_ncic_code</th>\n",
              "      <th>latitude</th>\n",
              "      <th>longitude</th>\n",
              "    </tr>\n",
              "  </thead>\n",
              "  <tbody>\n",
              "    <tr>\n",
              "      <th>10</th>\n",
              "      <td>1/1/06 0:00</td>\n",
              "      <td>2315 STOCKTON BLVD</td>\n",
              "      <td>6</td>\n",
              "      <td>6B</td>\n",
              "      <td>1005</td>\n",
              "      <td>ASSAULT WITH WEAPON - I RPT</td>\n",
              "      <td>7000</td>\n",
              "      <td>38.554264</td>\n",
              "      <td>-121.454604</td>\n",
              "    </tr>\n",
              "    <tr>\n",
              "      <th>12</th>\n",
              "      <td>1/1/06 0:00</td>\n",
              "      <td>6351 DRIFTWOOD ST</td>\n",
              "      <td>4</td>\n",
              "      <td>4C</td>\n",
              "      <td>1261</td>\n",
              "      <td>SUSP PERS-NO CRIME - I RPT</td>\n",
              "      <td>7000</td>\n",
              "      <td>38.510922</td>\n",
              "      <td>-121.548820</td>\n",
              "    </tr>\n",
              "    <tr>\n",
              "      <th>16</th>\n",
              "      <td>1/1/06 0:00</td>\n",
              "      <td>6033 69TH ST</td>\n",
              "      <td>6</td>\n",
              "      <td>6C</td>\n",
              "      <td>1403</td>\n",
              "      <td>TELEPEST -I RPT</td>\n",
              "      <td>7000</td>\n",
              "      <td>38.516573</td>\n",
              "      <td>-121.423475</td>\n",
              "    </tr>\n",
              "    <tr>\n",
              "      <th>24</th>\n",
              "      <td>1/1/06 0:01</td>\n",
              "      <td>15 BASIN CT</td>\n",
              "      <td>5</td>\n",
              "      <td>5C</td>\n",
              "      <td>1654</td>\n",
              "      <td>TRAFFIC - I RPT</td>\n",
              "      <td>7000</td>\n",
              "      <td>38.442815</td>\n",
              "      <td>-121.409524</td>\n",
              "    </tr>\n",
              "    <tr>\n",
              "      <th>28</th>\n",
              "      <td>1/1/06 0:01</td>\n",
              "      <td>1816 FLORIN RD</td>\n",
              "      <td>5</td>\n",
              "      <td>5A</td>\n",
              "      <td>1361</td>\n",
              "      <td>HARASSMENT - I RPT</td>\n",
              "      <td>7000</td>\n",
              "      <td>38.495353</td>\n",
              "      <td>-121.496560</td>\n",
              "    </tr>\n",
              "    <tr>\n",
              "      <th>...</th>\n",
              "      <td>...</td>\n",
              "      <td>...</td>\n",
              "      <td>...</td>\n",
              "      <td>...</td>\n",
              "      <td>...</td>\n",
              "      <td>...</td>\n",
              "      <td>...</td>\n",
              "      <td>...</td>\n",
              "      <td>...</td>\n",
              "    </tr>\n",
              "    <tr>\n",
              "      <th>7535</th>\n",
              "      <td>1/31/06 19:57</td>\n",
              "      <td>16TH ST / W ST</td>\n",
              "      <td>3</td>\n",
              "      <td>3A</td>\n",
              "      <td>785</td>\n",
              "      <td>TOWED/STORED VEHICLE</td>\n",
              "      <td>7000</td>\n",
              "      <td>38.563825</td>\n",
              "      <td>-121.491401</td>\n",
              "    </tr>\n",
              "    <tr>\n",
              "      <th>7551</th>\n",
              "      <td>1/31/06 21:30</td>\n",
              "      <td>2454 KNOLL ST</td>\n",
              "      <td>2</td>\n",
              "      <td>2C</td>\n",
              "      <td>605</td>\n",
              "      <td>THREATS - I RPT</td>\n",
              "      <td>7000</td>\n",
              "      <td>38.610070</td>\n",
              "      <td>-121.431188</td>\n",
              "    </tr>\n",
              "    <tr>\n",
              "      <th>7570</th>\n",
              "      <td>1/31/06 22:30</td>\n",
              "      <td>1856 3RD AVE</td>\n",
              "      <td>4</td>\n",
              "      <td>4A</td>\n",
              "      <td>926</td>\n",
              "      <td>MISCELLANEOUS I RPT (ZMISC)</td>\n",
              "      <td>7000</td>\n",
              "      <td>38.553461</td>\n",
              "      <td>-121.491734</td>\n",
              "    </tr>\n",
              "    <tr>\n",
              "      <th>7578</th>\n",
              "      <td>1/31/06 23:31</td>\n",
              "      <td>39TH ST / STOCKTON BLVD</td>\n",
              "      <td>6</td>\n",
              "      <td>6B</td>\n",
              "      <td>1005</td>\n",
              "      <td>CASUALTY REPORT</td>\n",
              "      <td>7000</td>\n",
              "      <td>38.556639</td>\n",
              "      <td>-121.459745</td>\n",
              "    </tr>\n",
              "    <tr>\n",
              "      <th>7582</th>\n",
              "      <td>1/31/06 23:45</td>\n",
              "      <td>5303 FRANKLIN BLVD</td>\n",
              "      <td>4</td>\n",
              "      <td>4B</td>\n",
              "      <td>969</td>\n",
              "      <td>3056 PAROLE VIO - I RPT</td>\n",
              "      <td>7000</td>\n",
              "      <td>38.527187</td>\n",
              "      <td>-121.471248</td>\n",
              "    </tr>\n",
              "  </tbody>\n",
              "</table>\n",
              "<p>2470 rows × 9 columns</p>\n",
              "</div>"
            ],
            "text/plain": [
              "          cdatetime                  address  ...   latitude   longitude\n",
              "10      1/1/06 0:00       2315 STOCKTON BLVD  ...  38.554264 -121.454604\n",
              "12      1/1/06 0:00        6351 DRIFTWOOD ST  ...  38.510922 -121.548820\n",
              "16      1/1/06 0:00             6033 69TH ST  ...  38.516573 -121.423475\n",
              "24      1/1/06 0:01              15 BASIN CT  ...  38.442815 -121.409524\n",
              "28      1/1/06 0:01           1816 FLORIN RD  ...  38.495353 -121.496560\n",
              "...             ...                      ...  ...        ...         ...\n",
              "7535  1/31/06 19:57           16TH ST / W ST  ...  38.563825 -121.491401\n",
              "7551  1/31/06 21:30            2454 KNOLL ST  ...  38.610070 -121.431188\n",
              "7570  1/31/06 22:30             1856 3RD AVE  ...  38.553461 -121.491734\n",
              "7578  1/31/06 23:31  39TH ST / STOCKTON BLVD  ...  38.556639 -121.459745\n",
              "7582  1/31/06 23:45       5303 FRANKLIN BLVD  ...  38.527187 -121.471248\n",
              "\n",
              "[2470 rows x 9 columns]"
            ]
          },
          "metadata": {
            "tags": []
          },
          "execution_count": 82
        }
      ]
    },
    {
      "cell_type": "code",
      "metadata": {
        "id": "m86l-vYG2Xc6",
        "colab_type": "code",
        "colab": {
          "base_uri": "https://localhost:8080/",
          "height": 207
        },
        "outputId": "9a6ab462-93a8-488b-bba1-88c422ee2897"
      },
      "source": [
        "panchito_700 = df_filtrado['ucr_ncic_code'] == 7000\n",
        "\n",
        "df[filtro_ucr_code_7000]"
      ],
      "execution_count": 84,
      "outputs": [
        {
          "output_type": "error",
          "ename": "NameError",
          "evalue": "ignored",
          "traceback": [
            "\u001b[0;31m---------------------------------------------------------------------------\u001b[0m",
            "\u001b[0;31mNameError\u001b[0m                                 Traceback (most recent call last)",
            "\u001b[0;32m<ipython-input-84-ce4ab5ea5712>\u001b[0m in \u001b[0;36m<module>\u001b[0;34m()\u001b[0m\n\u001b[1;32m      1\u001b[0m \u001b[0mpanchito_700\u001b[0m \u001b[0;34m=\u001b[0m \u001b[0mdf_filtrado\u001b[0m\u001b[0;34m[\u001b[0m\u001b[0;34m'ucr_ncic_code'\u001b[0m\u001b[0;34m]\u001b[0m \u001b[0;34m==\u001b[0m \u001b[0;36m7000\u001b[0m\u001b[0;34m\u001b[0m\u001b[0;34m\u001b[0m\u001b[0m\n\u001b[1;32m      2\u001b[0m \u001b[0;34m\u001b[0m\u001b[0m\n\u001b[0;32m----> 3\u001b[0;31m \u001b[0mdf\u001b[0m\u001b[0;34m[\u001b[0m\u001b[0mfiltro_ucr_code_7000\u001b[0m\u001b[0;34m]\u001b[0m\u001b[0;34m\u001b[0m\u001b[0;34m\u001b[0m\u001b[0m\n\u001b[0m",
            "\u001b[0;31mNameError\u001b[0m: name 'filtro_ucr_code_7000' is not defined"
          ]
        }
      ]
    },
    {
      "cell_type": "code",
      "metadata": {
        "id": "K4taKnuy6zKe",
        "colab_type": "code",
        "colab": {
          "base_uri": "https://localhost:8080/",
          "height": 53
        },
        "outputId": "771d35b7-2bc8-4d15-a999-1cbb73d38552"
      },
      "source": [
        "df['latitude'].mode()"
      ],
      "execution_count": 89,
      "outputs": [
        {
          "output_type": "execute_result",
          "data": {
            "text/plain": [
              "0    38.638629\n",
              "dtype: float64"
            ]
          },
          "metadata": {
            "tags": []
          },
          "execution_count": 89
        }
      ]
    },
    {
      "cell_type": "code",
      "metadata": {
        "id": "duu7rkV0_rgq",
        "colab_type": "code",
        "colab": {
          "base_uri": "https://localhost:8080/",
          "height": 35
        },
        "outputId": "ff231b3b-963d-480a-be1b-ba569a886842"
      },
      "source": [
        "df['latitude'].max()"
      ],
      "execution_count": 90,
      "outputs": [
        {
          "output_type": "execute_result",
          "data": {
            "text/plain": [
              "38.68378949"
            ]
          },
          "metadata": {
            "tags": []
          },
          "execution_count": 90
        }
      ]
    },
    {
      "cell_type": "markdown",
      "metadata": {
        "id": "Fyrko0dc_vhC",
        "colab_type": "text"
      },
      "source": [
        "### Encontrar el centro del crimen"
      ]
    },
    {
      "cell_type": "code",
      "metadata": {
        "id": "voDIHvjiAD-3",
        "colab_type": "code",
        "colab": {
          "base_uri": "https://localhost:8080/",
          "height": 53
        },
        "outputId": "4762e12f-4e81-47d7-ffe7-141bfcaeaed7"
      },
      "source": [
        "promedio_lat = df['latitude'].mean()\n",
        "promedio_lon = df['longitude'].mean()\n",
        "\n",
        "print(f'Lat Promedio: {promedio_lat}')\n",
        "print(f'Lon Promedio: {promedio_lon}')"
      ],
      "execution_count": 91,
      "outputs": [
        {
          "output_type": "stream",
          "text": [
            "Lat Promedio: 38.55980901661417\n",
            "Lon Promedio: -121.46383201401629\n"
          ],
          "name": "stdout"
        }
      ]
    },
    {
      "cell_type": "code",
      "metadata": {
        "id": "3IovHNp1AhO4",
        "colab_type": "code",
        "colab": {}
      },
      "source": [
        "from math import radians, cos, sin, asin\n",
        "from numpy import sqrt\n",
        "\n",
        "def distancia_semiverseno(lat1, lon1, lat2, lon2):\n",
        "  lat1,lon1, lat2, lon2 = map(radians, [lat1, lon1, lat2, lon2])\n",
        "\n",
        "  dlon = lon2 - lon1\n",
        "  dlat = lat2 - lat1\n",
        "\n",
        "  a = sin(dlat/2)**2 + cos(lat1) * cos(lat2) * sin(dlon/2)**2\n",
        "  c = 2 * asin(aqrt(a))\n",
        "  return c * r"
      ],
      "execution_count": 0,
      "outputs": []
    },
    {
      "cell_type": "code",
      "metadata": {
        "id": "ZOIyrwu7CEwd",
        "colab_type": "code",
        "colab": {}
      },
      "source": [
        "l1 = 38.554264 \t-121.454604"
      ],
      "execution_count": 0,
      "outputs": []
    },
    {
      "cell_type": "code",
      "metadata": {
        "id": "HTfDC18cE3Wq",
        "colab_type": "code",
        "colab": {}
      },
      "source": [
        "promedio_lat = df['latitude'].mean()\n",
        "promedio_lon = df['longitude'].mean()\n",
        "\n",
        "serie_lat = df['latitude']\n",
        "serie_lon = df['longitude']"
      ],
      "execution_count": 0,
      "outputs": []
    },
    {
      "cell_type": "code",
      "metadata": {
        "id": "dJOUT-sJGnuf",
        "colab_type": "code",
        "colab": {
          "base_uri": "https://localhost:8080/",
          "height": 334
        },
        "outputId": "9d5880ef-9891-426e-c77b-e4d03cd797af"
      },
      "source": [
        "resultados = []\n",
        "\n",
        "for i in range(len(serie_lon)):\n",
        "\n",
        "  resultado = distancia_semiverseno(serie_lat[i], serie_lon[i], promedio_lat, promedio_lon)\n",
        "  resultados.append(resultado)"
      ],
      "execution_count": 105,
      "outputs": [
        {
          "output_type": "error",
          "ename": "NameError",
          "evalue": "ignored",
          "traceback": [
            "\u001b[0;31m---------------------------------------------------------------------------\u001b[0m",
            "\u001b[0;31mNameError\u001b[0m                                 Traceback (most recent call last)",
            "\u001b[0;32m<ipython-input-105-dac34dc369d2>\u001b[0m in \u001b[0;36m<module>\u001b[0;34m()\u001b[0m\n\u001b[1;32m      3\u001b[0m \u001b[0;32mfor\u001b[0m \u001b[0mi\u001b[0m \u001b[0;32min\u001b[0m \u001b[0mrange\u001b[0m\u001b[0;34m(\u001b[0m\u001b[0mlen\u001b[0m\u001b[0;34m(\u001b[0m\u001b[0mserie_lon\u001b[0m\u001b[0;34m)\u001b[0m\u001b[0;34m)\u001b[0m\u001b[0;34m:\u001b[0m\u001b[0;34m\u001b[0m\u001b[0;34m\u001b[0m\u001b[0m\n\u001b[1;32m      4\u001b[0m \u001b[0;34m\u001b[0m\u001b[0m\n\u001b[0;32m----> 5\u001b[0;31m   \u001b[0mresultado\u001b[0m \u001b[0;34m=\u001b[0m \u001b[0mdistancia_semiverseno\u001b[0m\u001b[0;34m(\u001b[0m\u001b[0mserie_lat\u001b[0m\u001b[0;34m[\u001b[0m\u001b[0mi\u001b[0m\u001b[0;34m]\u001b[0m\u001b[0;34m,\u001b[0m \u001b[0mserie_lon\u001b[0m\u001b[0;34m[\u001b[0m\u001b[0mi\u001b[0m\u001b[0;34m]\u001b[0m\u001b[0;34m,\u001b[0m \u001b[0mpromedio_lat\u001b[0m\u001b[0;34m,\u001b[0m \u001b[0mpromedio_lon\u001b[0m\u001b[0;34m)\u001b[0m\u001b[0;34m\u001b[0m\u001b[0;34m\u001b[0m\u001b[0m\n\u001b[0m\u001b[1;32m      6\u001b[0m   \u001b[0mresultados\u001b[0m\u001b[0;34m.\u001b[0m\u001b[0mappend\u001b[0m\u001b[0;34m(\u001b[0m\u001b[0mresultado\u001b[0m\u001b[0;34m)\u001b[0m\u001b[0;34m\u001b[0m\u001b[0;34m\u001b[0m\u001b[0m\n",
            "\u001b[0;32m<ipython-input-92-53f8bd5214ae>\u001b[0m in \u001b[0;36mdistancia_semiverseno\u001b[0;34m(lat1, lon1, lat2, lon2)\u001b[0m\n\u001b[1;32m      9\u001b[0m \u001b[0;34m\u001b[0m\u001b[0m\n\u001b[1;32m     10\u001b[0m   \u001b[0ma\u001b[0m \u001b[0;34m=\u001b[0m \u001b[0msin\u001b[0m\u001b[0;34m(\u001b[0m\u001b[0mdlat\u001b[0m\u001b[0;34m/\u001b[0m\u001b[0;36m2\u001b[0m\u001b[0;34m)\u001b[0m\u001b[0;34m**\u001b[0m\u001b[0;36m2\u001b[0m \u001b[0;34m+\u001b[0m \u001b[0mcos\u001b[0m\u001b[0;34m(\u001b[0m\u001b[0mlat1\u001b[0m\u001b[0;34m)\u001b[0m \u001b[0;34m*\u001b[0m \u001b[0mcos\u001b[0m\u001b[0;34m(\u001b[0m\u001b[0mlat2\u001b[0m\u001b[0;34m)\u001b[0m \u001b[0;34m*\u001b[0m \u001b[0msin\u001b[0m\u001b[0;34m(\u001b[0m\u001b[0mdlon\u001b[0m\u001b[0;34m/\u001b[0m\u001b[0;36m2\u001b[0m\u001b[0;34m)\u001b[0m\u001b[0;34m**\u001b[0m\u001b[0;36m2\u001b[0m\u001b[0;34m\u001b[0m\u001b[0;34m\u001b[0m\u001b[0m\n\u001b[0;32m---> 11\u001b[0;31m   \u001b[0mc\u001b[0m \u001b[0;34m=\u001b[0m \u001b[0;36m2\u001b[0m \u001b[0;34m*\u001b[0m \u001b[0masin\u001b[0m\u001b[0;34m(\u001b[0m\u001b[0maqrt\u001b[0m\u001b[0;34m(\u001b[0m\u001b[0ma\u001b[0m\u001b[0;34m)\u001b[0m\u001b[0;34m)\u001b[0m\u001b[0;34m\u001b[0m\u001b[0;34m\u001b[0m\u001b[0m\n\u001b[0m\u001b[1;32m     12\u001b[0m   \u001b[0;32mreturn\u001b[0m \u001b[0mc\u001b[0m \u001b[0;34m*\u001b[0m \u001b[0mr\u001b[0m\u001b[0;34m\u001b[0m\u001b[0;34m\u001b[0m\u001b[0m\n",
            "\u001b[0;31mNameError\u001b[0m: name 'aqrt' is not defined"
          ]
        }
      ]
    },
    {
      "cell_type": "code",
      "metadata": {
        "id": "XsLGpNtpIEQB",
        "colab_type": "code",
        "colab": {
          "base_uri": "https://localhost:8080/",
          "height": 92
        },
        "outputId": "b3082c8f-27f6-4f60-af42-3a3ea377a6de"
      },
      "source": [
        "distancia_al_centro = pd.Series(resultados, name='distancia_al_centro')\n",
        "\n",
        "distancia_al_centro"
      ],
      "execution_count": 106,
      "outputs": [
        {
          "output_type": "stream",
          "text": [
            "/usr/local/lib/python3.6/dist-packages/ipykernel_launcher.py:1: DeprecationWarning: The default dtype for empty Series will be 'object' instead of 'float64' in a future version. Specify a dtype explicitly to silence this warning.\n",
            "  \"\"\"Entry point for launching an IPython kernel.\n"
          ],
          "name": "stderr"
        },
        {
          "output_type": "execute_result",
          "data": {
            "text/plain": [
              "Series([], Name: distancia_al_centro, dtype: float64)"
            ]
          },
          "metadata": {
            "tags": []
          },
          "execution_count": 106
        }
      ]
    },
    {
      "cell_type": "code",
      "metadata": {
        "id": "y7WujpwHHi4w",
        "colab_type": "code",
        "colab": {
          "base_uri": "https://localhost:8080/",
          "height": 206
        },
        "outputId": "441c8df1-c6cb-41a4-fe47-427ca3cf80d9"
      },
      "source": [
        "df_completo = df.join(distancia_al_centro)\n",
        "\n",
        "df_completo.head()"
      ],
      "execution_count": 107,
      "outputs": [
        {
          "output_type": "execute_result",
          "data": {
            "text/html": [
              "<div>\n",
              "<style scoped>\n",
              "    .dataframe tbody tr th:only-of-type {\n",
              "        vertical-align: middle;\n",
              "    }\n",
              "\n",
              "    .dataframe tbody tr th {\n",
              "        vertical-align: top;\n",
              "    }\n",
              "\n",
              "    .dataframe thead th {\n",
              "        text-align: right;\n",
              "    }\n",
              "</style>\n",
              "<table border=\"1\" class=\"dataframe\">\n",
              "  <thead>\n",
              "    <tr style=\"text-align: right;\">\n",
              "      <th></th>\n",
              "      <th>cdatetime</th>\n",
              "      <th>address</th>\n",
              "      <th>district</th>\n",
              "      <th>beat</th>\n",
              "      <th>grid</th>\n",
              "      <th>crimedescr</th>\n",
              "      <th>ucr_ncic_code</th>\n",
              "      <th>latitude</th>\n",
              "      <th>longitude</th>\n",
              "      <th>distancia_al_centro</th>\n",
              "    </tr>\n",
              "  </thead>\n",
              "  <tbody>\n",
              "    <tr>\n",
              "      <th>0</th>\n",
              "      <td>1/1/06 0:00</td>\n",
              "      <td>3108 OCCIDENTAL DR</td>\n",
              "      <td>3</td>\n",
              "      <td>3C</td>\n",
              "      <td>1115</td>\n",
              "      <td>10851(A)VC TAKE VEH W/O OWNER</td>\n",
              "      <td>2404</td>\n",
              "      <td>38.550420</td>\n",
              "      <td>-121.391416</td>\n",
              "      <td>NaN</td>\n",
              "    </tr>\n",
              "    <tr>\n",
              "      <th>1</th>\n",
              "      <td>1/1/06 0:00</td>\n",
              "      <td>2082 EXPEDITION WAY</td>\n",
              "      <td>5</td>\n",
              "      <td>5A</td>\n",
              "      <td>1512</td>\n",
              "      <td>459 PC  BURGLARY RESIDENCE</td>\n",
              "      <td>2204</td>\n",
              "      <td>38.473501</td>\n",
              "      <td>-121.490186</td>\n",
              "      <td>NaN</td>\n",
              "    </tr>\n",
              "    <tr>\n",
              "      <th>2</th>\n",
              "      <td>1/1/06 0:00</td>\n",
              "      <td>4 PALEN CT</td>\n",
              "      <td>2</td>\n",
              "      <td>2A</td>\n",
              "      <td>212</td>\n",
              "      <td>10851(A)VC TAKE VEH W/O OWNER</td>\n",
              "      <td>2404</td>\n",
              "      <td>38.657846</td>\n",
              "      <td>-121.462101</td>\n",
              "      <td>NaN</td>\n",
              "    </tr>\n",
              "    <tr>\n",
              "      <th>3</th>\n",
              "      <td>1/1/06 0:00</td>\n",
              "      <td>22 BECKFORD CT</td>\n",
              "      <td>6</td>\n",
              "      <td>6C</td>\n",
              "      <td>1443</td>\n",
              "      <td>476 PC PASS FICTICIOUS CHECK</td>\n",
              "      <td>2501</td>\n",
              "      <td>38.506774</td>\n",
              "      <td>-121.426951</td>\n",
              "      <td>NaN</td>\n",
              "    </tr>\n",
              "    <tr>\n",
              "      <th>4</th>\n",
              "      <td>1/1/06 0:00</td>\n",
              "      <td>3421 AUBURN BLVD</td>\n",
              "      <td>2</td>\n",
              "      <td>2A</td>\n",
              "      <td>508</td>\n",
              "      <td>459 PC  BURGLARY-UNSPECIFIED</td>\n",
              "      <td>2299</td>\n",
              "      <td>38.637448</td>\n",
              "      <td>-121.384613</td>\n",
              "      <td>NaN</td>\n",
              "    </tr>\n",
              "  </tbody>\n",
              "</table>\n",
              "</div>"
            ],
            "text/plain": [
              "     cdatetime              address  ...   longitude distancia_al_centro\n",
              "0  1/1/06 0:00   3108 OCCIDENTAL DR  ... -121.391416                 NaN\n",
              "1  1/1/06 0:00  2082 EXPEDITION WAY  ... -121.490186                 NaN\n",
              "2  1/1/06 0:00           4 PALEN CT  ... -121.462101                 NaN\n",
              "3  1/1/06 0:00       22 BECKFORD CT  ... -121.426951                 NaN\n",
              "4  1/1/06 0:00     3421 AUBURN BLVD  ... -121.384613                 NaN\n",
              "\n",
              "[5 rows x 10 columns]"
            ]
          },
          "metadata": {
            "tags": []
          },
          "execution_count": 107
        }
      ]
    },
    {
      "cell_type": "code",
      "metadata": {
        "id": "Jv_MeCZgHt4p",
        "colab_type": "code",
        "colab": {}
      },
      "source": [
        ""
      ],
      "execution_count": 0,
      "outputs": []
    }
  ]
}